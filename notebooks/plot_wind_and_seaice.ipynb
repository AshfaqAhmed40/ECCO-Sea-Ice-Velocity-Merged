{
 "cells": [
  {
   "cell_type": "markdown",
   "id": "f39dddcd-c5a6-47d1-aac6-a58842f73ea3",
   "metadata": {},
   "source": [
    "# Goal"
   ]
  },
  {
   "cell_type": "markdown",
   "id": "3e9cf0e9-f319-4d8a-bd26-092b0d2cba58",
   "metadata": {},
   "source": [
    "We want to have a better understanding of the representation of sea ice in the ECCO model (reanalysis). The goal of this notebook is to plot -\n",
    "a) ECCO sea ice velocity and ERA-Interim wind velocity\n",
    "b) ECCO sea ice thickness\n",
    "c) Relationship between the sea ice thickness and transfer coefficient \n",
    "during a similar time frame (1992-2017). In this process, we will be able to understand how wind force influences sea ice in the model. In other words,  we will be able to know how sensitive the sea ice is to the presence of wind.  "
   ]
  },
  {
   "cell_type": "code",
   "execution_count": null,
   "id": "fc40da94-5a05-4eb0-a45f-f132e372f89c",
   "metadata": {},
   "outputs": [],
   "source": [
    "%%time\n",
    "import numpy as np\n",
    "import xarray as xr\n",
    "import os\n",
    "import sys\n",
    "import glob  \n",
    "import netCDF4  \n",
    "import pandas as pd  \n",
    "import matplotlib.pyplot as plt \n",
    "import cartopy.crs as ccrs\n",
    "from datetime import datetime\n",
    "from os.path import join,expanduser,exists,split\n",
    "import cartopy as cartopy\n",
    "import importlib\n",
    "import matplotlib.cm as cm\n",
    "from pathlib import Path\n",
    "from pprint import pprint\n",
    "import xgcm as xgcm\n",
    "import warnings\n",
    "\n",
    "\n",
    "warnings.filterwarnings('ignore')\n",
    "%matplotlib inline\n",
    "\n",
    "# identify user's home directory\n",
    "user_home_dir = expanduser('/Users/aahmed78/Desktop/ECCO/ECCO Sea Ice Velocity/')\n",
    "sys.path.append(join(user_home_dir,'ECCO-v4-Python-Tutorial'))\n",
    "sys.path.append(join(user_home_dir,'ECCOv4-py'))\n",
    "\n",
    "import ecco_v4_py as ecco\n",
    "from ecco_v4_py import get_llc_grid as get_llc_grid\n",
    "import ecco_access as ea"
   ]
  },
  {
   "cell_type": "markdown",
   "id": "fad8eb19-cfb1-4f41-bc43-12d64f8ac0a6",
   "metadata": {},
   "source": [
    "## Colormaps and XGCM grid system"
   ]
  },
  {
   "cell_type": "markdown",
   "id": "4d20e13b-5e63-4219-9902-5831aa459f26",
   "metadata": {},
   "source": [
    "Colormaps"
   ]
  },
  {
   "cell_type": "code",
   "execution_count": null,
   "id": "3053a5a7-03de-4812-b22c-9e0aa61ef27b",
   "metadata": {},
   "outputs": [],
   "source": [
    "# define some useful colormaps where NaNs are black or white\n",
    "colormaps = {\n",
    "    'colMap_RdBu_k': (cm.RdBu_r, 'black'),\n",
    "    'jet_colMap_k': (cm.jet, 'black'),\n",
    "    'jet_colMap_w': (cm.jet, 'white'),\n",
    "    'plasma_colMap_k': (cm.plasma, 'black'),\n",
    "    'plasma_colMap_w': (cm.plasma, 'white'),\n",
    "    'viridis_colMap_k': (cm.viridis, 'black'),\n",
    "    'viridis_colMap_w': (cm.viridis, 'white'),\n",
    "    'inferno_colMap_k': (cm.inferno, 'black'),\n",
    "    'inferno_colMap_w': (cm.inferno, 'white'),\n",
    "    'coolwarm_colMap_k': (cm.coolwarm, 'black'),\n",
    "    'coolwarm_colMap_w': (cm.coolwarm, 'white')\n",
    "}\n",
    "\n",
    "# Apply NaN color settings\n",
    "for name, (colormap, nan_color) in colormaps.items():\n",
    "    colormap.set_bad(color=nan_color)\n",
    "    globals()[name] = colormap  # Assign to global variable with the specified name\n",
    "# Use --> plt.imshow(data, cmap=colMap_RdBu_k) for example"
   ]
  },
  {
   "cell_type": "markdown",
   "id": "aa583787-18d5-4ee4-add6-02dd6e7c23f7",
   "metadata": {},
   "source": [
    "Grid system"
   ]
  },
  {
   "cell_type": "code",
   "execution_count": null,
   "id": "505e661f-7c74-463d-bae8-9c892655d7d8",
   "metadata": {},
   "outputs": [],
   "source": [
    "# Go to the current working directory\n",
    "ecco_dir = '/Users/aahmed78/Desktop/ECCO/ECCO Sea Ice Velocity/data/'\n",
    "os.chdir(ecco_dir)\n",
    "# Am I really in the directory?\n",
    "! pwd\n",
    "print(\"\\n\")\n",
    "\n",
    "ecco_grid = xr.open_dataset('GRID_GEOMETRY_ECCO_V4r4_native_llc0090.nc') \n",
    "print(\"Geometry contains: \",list(ecco_grid.data_vars))\n",
    "print(\"\\n\")\n",
    "\n",
    "# Make the XGCM object\n",
    "XGCM_grid = get_llc_grid(ecco_grid)\n",
    "\n",
    "# look at the XGCM object.\n",
    "print(XGCM_grid)"
   ]
  },
  {
   "cell_type": "markdown",
   "id": "3321234f-9f9a-4531-9407-a0b45cd259dd",
   "metadata": {},
   "source": [
    "## Load sea ice data and model geometry"
   ]
  },
  {
   "cell_type": "code",
   "execution_count": null,
   "id": "b85a231a-82ad-4f4b-b949-75a9441c0e07",
   "metadata": {
    "scrolled": true
   },
   "outputs": [],
   "source": [
    "# Load the NetCDF file using xarray\n",
    "year = 1992\n",
    "file_name = ecco_dir + 'ecco_sea_ice_velocity_{y}.nc'.format(y=year)\n",
    "ecco_ds = xr.open_dataset(file_name) # sea ice data\n",
    "ecco_ds = xr.merge((ecco_ds , ecco_grid)).compute()\n",
    "print(list(ecco_ds.data_vars))\n",
    "ecco_ds"
   ]
  },
  {
   "cell_type": "markdown",
   "id": "21dcc3e1-66c6-4e3f-8fea-6194063c9a4c",
   "metadata": {},
   "source": [
    "Check if all tiles are alright. Note that, Ioly chose 5 active tiles. Rest ofthtileare not considerd (because they do not contain Arctic ocean, plus, it significantly reduces the size). "
   ]
  },
  {
   "cell_type": "code",
   "execution_count": null,
   "id": "902aa88b-8312-4fa5-aeb5-c98080919b97",
   "metadata": {},
   "outputs": [],
   "source": [
    "import matplotlib.pyplot as plt\n",
    "\n",
    "# Create a 3x5 grid of subplots\n",
    "fig, axes = plt.subplots(3, 5, figsize=(15, 9))\n",
    "\n",
    "# Loop to plot each tile in the 3x5 grid, using i = 0 to 12 for the 13 tiles\n",
    "for i in range(13):  # i goes from 0 to 12, which matches the tile indices in ecco_ds\n",
    "    row = i // 5     # Calculate row index\n",
    "    col = i % 5      # Calculate column index\n",
    "    \n",
    "    # Access the current subplot\n",
    "    ax = axes[row, col]\n",
    "    \n",
    "    # Plot the data for tile i on the current subplot\n",
    "    ecco_ds.SIuice.isel(time=0, tile=i).plot(ax=ax, add_colorbar=False)\n",
    "    ax.set_title(f\"Tile {i}\")\n",
    "\n",
    "# Hide the last two empty subplots\n",
    "for j in range(13, 15):\n",
    "    fig.delaxes(axes[j // 5, j % 5])\n",
    "\n",
    "\n",
    "# Adjust layout and display the plot\n",
    "plt.tight_layout()\n",
    "plt.show()\n"
   ]
  },
  {
   "cell_type": "markdown",
   "id": "a0ac93b7-82ae-4d87-ad58-da9e28fb837a",
   "metadata": {},
   "source": [
    "## Convert model to global velocity"
   ]
  },
  {
   "cell_type": "markdown",
   "id": "1d0c02dd-fe7e-4f5e-babb-743104120c5a",
   "metadata": {},
   "source": [
    "Convert $u_x$ and $u_y$ to $\\lambda$ and $\\phi$ velocity"
   ]
  },
  {
   "cell_type": "code",
   "execution_count": null,
   "id": "277e2ed7-b661-445e-940a-9be7807f13c0",
   "metadata": {
    "scrolled": true
   },
   "outputs": [],
   "source": [
    "u_x = ecco_ds.SIuice.copy(deep=True)\n",
    "v_y = ecco_ds.SIvice.copy(deep=True)\n",
    "\n",
    "# set land points to nan so that we don't get big gradients between ocean and land\n",
    "# ... the wet/dry mask for 'u' points is in the 'maskW' field\n",
    "    # ... the wet/dry mask for 'v' points is in the 'maskS' field\n",
    "    nan_land_mask_W = ecco_ds.maskW.where(ecco_ds.maskW.isel(k=0) > 0);\n",
    "    nan_land_mask_S = ecco_ds.maskS.where(ecco_ds.maskS.isel(k=0) > 0);\n",
    "    \n",
    "    # mask land points with nan\n",
    "    u_x = u_x*nan_land_mask_W.isel(k=0)\n",
    "    v_y = v_y*nan_land_mask_S.isel(k=0)\n",
    "    \n",
    "    # confirm that the field is indeed in the native grid format and tracer cell point [dimensions 'tile','i','j']\n",
    "    # (13 tiles of 90x90)\n",
    "    print(f'\\nuvel dimensions:  {u_x.dims}')\n",
    "    print(f'uvel shape:       {u_x.shape}')\n",
    "    print(f'\\nvvel dimensions: {v_y.dims}')\n",
    "    print(f'vvel shape:       {v_y.shape}')"
   ]
  },
  {
   "cell_type": "code",
   "execution_count": null,
   "id": "fe41eff5-aab8-4a7e-860f-c89666ee824e",
   "metadata": {},
   "outputs": [],
   "source": [
    "## calculate the zonal and meridional components of flow from the u_x and v_y components\n",
    "\n",
    "# u_x and v_y are located at the model's 'u' and 'v' points, respectively.\n",
    "# interpolate the vectors to the cell centers at i,j\n",
    "vec_u_to_ij = XGCM_grid.interp_2d_vector({'X': u_x, 'Y': v_y},boundary='fill')\n",
    "\n",
    "# vec_u_to_ij is a dictionary holding the interpolated vectors with the 'X' and 'Y' keys.\n",
    "\n",
    "# rotate the interpolated vectors to the zonal (lambda) and meridional (phi) basis\n",
    "# Add the zonal components of the 'X' and 'Y' vectors\n",
    "u_lambda       = vec_u_to_ij['X']*ecco_ds['CS'] - vec_u_to_ij['Y']*ecco_ds['SN']\n",
    "\n",
    "# Add the meridional components\n",
    "v_phi          = vec_u_to_ij['X']*ecco_ds['SN'] + vec_u_to_ij['Y']*ecco_ds['CS']\n"
   ]
  },
  {
   "cell_type": "markdown",
   "id": "bfaa1812-022b-4823-b078-1d25de2ae4ff",
   "metadata": {},
   "source": [
    "Time to check how different do they look"
   ]
  },
  {
   "cell_type": "code",
   "execution_count": null,
   "id": "369cd4dc-fc65-4c85-bee2-8d8e624dc5b9",
   "metadata": {},
   "outputs": [],
   "source": [
    "import matplotlib.pyplot as plt\n",
    "\n",
    "# Create a 1x2 grid of subplots\n",
    "fig, axes = plt.subplots(1, 2, figsize=(10, 4))\n",
    "\n",
    "# Plot on the first subplot\n",
    "u_lambda.isel(time=0, tile=6).plot(ax=axes[0], add_colorbar=True)\n",
    "\n",
    "# Plot on the second subplot\n",
    "ecco_ds.SIuice.isel(time=0, tile=6).plot(ax=axes[1], add_colorbar=True)\n",
    "\n",
    "# Adjust layout and show the plot\n",
    "plt.tight_layout()\n",
    "plt.show()\n"
   ]
  },
  {
   "cell_type": "code",
   "execution_count": null,
   "id": "ba5d0139-5e6f-4fd2-8068-3da30514e866",
   "metadata": {},
   "outputs": [],
   "source": [
    "ecco_ds.SIuice.isel(time=0, tile=6).shape"
   ]
  },
  {
   "cell_type": "markdown",
   "id": "5b09f1d0-5576-447a-8df1-e32c4c0f93da",
   "metadata": {},
   "source": [
    "## Velocity magnitude"
   ]
  },
  {
   "cell_type": "markdown",
   "id": "846d3ea5-5853-4edc-a78c-83177032575a",
   "metadata": {},
   "source": [
    "c = sqrt(u_lambda$^2$ + v_phi$^2$)"
   ]
  },
  {
   "cell_type": "code",
   "execution_count": null,
   "id": "38ccd3b5-71a0-49c3-a25b-aa468d6141cb",
   "metadata": {},
   "outputs": [],
   "source": [
    "# Calculate the magnitude of velocity for color mapping\n",
    "c = np.sqrt(u_lambda**2 + v_phi**2)\n",
    "c = np.where(~np.isfinite(c), np.nan, c)\n",
    "# c = np.where(c > 0.5, 0.5, c)\n",
    "\n",
    "print(f'The shape of speed, c is:       {c.shape}')"
   ]
  },
  {
   "cell_type": "markdown",
   "id": "9db116a6-18b1-4914-a02f-9cc89fc605cb",
   "metadata": {},
   "source": [
    "Assign u_lambda,v_ph, c i the ecco_ds"
   ]
  },
  {
   "cell_type": "code",
   "execution_count": null,
   "id": "022217f3-e28f-4279-8de6-06c244a24984",
   "metadata": {
    "scrolled": true
   },
   "outputs": [],
   "source": [
    "ecco_ds = ecco_ds.assign(u_lambda=u_lambda,\n",
    "                         v_phi=v_phi, \n",
    "                         c=((\"time\", \"tile\", \"j\", \"i\"), c))\n",
    "ecco_ds"
   ]
  },
  {
   "cell_type": "code",
   "execution_count": null,
   "id": "ce141e8b-cfd1-467f-935e-da6c77a8a0b0",
   "metadata": {},
   "outputs": [],
   "source": [
    "print(f'\\nu_lambda dimensions: {ecco_ds.u_lambda.dims}')\n",
    "print(f'u_lambda shape:       {ecco_ds.u_lambda.shape}')\n",
    "print(f'\\nv_phi dimensions: {ecco_ds.v_phi.dims}')\n",
    "print(f'v_phi shape:       {ecco_ds.v_phi.shape}')\n",
    "print(f'\\nc dimensions: {ecco_ds.c.dims}')\n",
    "print(f'c shape:       {ecco_ds.c.shape}')"
   ]
  },
  {
   "cell_type": "markdown",
   "id": "e2b7a3ec-f160-40f2-bab8-977e316fd0b9",
   "metadata": {},
   "source": [
    "Now, compare between the speed and u_x and u_y"
   ]
  },
  {
   "cell_type": "code",
   "execution_count": null,
   "id": "ef4c86ff-8867-40dc-9d76-ffbb2ca01d35",
   "metadata": {},
   "outputs": [],
   "source": [
    "# Create a 1x2 grid of subplots\n",
    "fig, axes = plt.subplots(1, 3, figsize=(12, 3))\n",
    "\n",
    "# Plot on the first subplot\n",
    "ecco_ds.c.isel(time=0, tile=6).plot(ax=axes[0], add_colorbar=True)\n",
    "\n",
    "# Plot on the first subplot\n",
    "ecco_ds.u_lambda.isel(time=0, tile=6).plot(ax=axes[1], add_colorbar=True)\n",
    "\n",
    "# Plot on the second subplot\n",
    "ecco_ds.v_phi.isel(time=0, tile=6).plot(ax=axes[2], add_colorbar=True)\n",
    "\n",
    "# Adjust layout and show the plot\n",
    "plt.tight_layout()\n",
    "plt.show()"
   ]
  },
  {
   "cell_type": "code",
   "execution_count": null,
   "id": "a9a29376-8c61-4c0b-9506-f21ff14c084f",
   "metadata": {},
   "outputs": [],
   "source": [
    "import matplotlib.pyplot as plt\n",
    "import numpy as np\n",
    "import cartopy.crs as ccrs\n",
    "import cartopy.feature as cfeature\n",
    "import matplotlib.colors as mcolors\n",
    "\n",
    "\n",
    "# Plot setup\n",
    "f, ax = plt.subplots(1, 1, figsize=[10, 7.5],\n",
    "                     subplot_kw={'projection': ccrs.Stereographic(central_latitude=90)})\n",
    "\n",
    "vector_crs = ccrs.PlateCarree()\n",
    "\n",
    "# Arctic region extent (approximate)\n",
    "ax.set_extent([-180, 180, 70, 90], crs=ccrs.PlateCarree())\n",
    "\n",
    "# Normalize color range\n",
    "norm = mcolors.Normalize(vmin=0, vmax=0.5)\n",
    "\n",
    "# Quiver plot\n",
    "h = ax.quiver(ecco_ds.XC.isel(tile=6).values[::2, ::2].ravel(),\n",
    "              ecco_ds.YC.isel(tile=6).values[::2, ::2].ravel(),\n",
    "              ecco_ds.u_lambda.isel(time=0, tile=6).values[::2, ::2].ravel(),\n",
    "              ecco_ds.v_phi.isel(time=0, tile=6).values[::2, ::2].ravel(),\n",
    "              c[0,6,:,:][::2, ::2].ravel(),  # Use 'c' for color mapping\n",
    "              scale=8,\n",
    "              transform=vector_crs,\n",
    "              width=0.002, \n",
    "              cmap='inferno_r', headwidth=12, headlength=6, norm=norm)\n",
    "\n",
    "\n",
    "# Add land feature and gridlines\n",
    "ax.add_feature(cfeature.LAND, zorder=0, edgecolor='black')\n",
    "ax.gridlines(draw_labels=False)\n",
    "\n",
    "# Colorbar\n",
    "f.colorbar(h, orientation='vertical', label='Velocity Magnitude [m/s]')\n",
    "\n",
    "# Title\n",
    "ax.set_title('Model Velocity Vector [m/s]', fontsize=12)\n",
    "\n",
    "plt.show()\n",
    "\n"
   ]
  },
  {
   "cell_type": "markdown",
   "id": "40d0ba67-4d2c-4d40-8040-4a40dde11244",
   "metadata": {},
   "source": [
    "## Seasonal division"
   ]
  },
  {
   "cell_type": "code",
   "execution_count": null,
   "id": "276527cb-ac1b-4b55-88ff-5fc4c9c04eab",
   "metadata": {},
   "outputs": [],
   "source": [
    "# Dividing the dataset into four seasons\n",
    "month_length = ds.time.dt.days_in_month\n",
    "# Calculate the weights by grouping by 'time.season'.\n",
    "weights = (\n",
    "    month_length.groupby(\"time.season\") / month_length.groupby(\"time.season\").sum()\n",
    ")\n",
    "\n",
    "# Test that the sum of the weights for each season is 1.0\n",
    "np.testing.assert_allclose(weights.groupby(\"time.season\").sum().values, np.ones(4))\n",
    "\n",
    "# Calculate the weighted average\n",
    "ds_weighted = (ds * weights).groupby(\"time.season\").sum(dim=\"time\")\n",
    "ds_weighted"
   ]
  }
 ],
 "metadata": {
  "kernelspec": {
   "display_name": "Python 3 (ipykernel)",
   "language": "python",
   "name": "python3"
  },
  "language_info": {
   "codemirror_mode": {
    "name": "ipython",
    "version": 3
   },
   "file_extension": ".py",
   "mimetype": "text/x-python",
   "name": "python",
   "nbconvert_exporter": "python",
   "pygments_lexer": "ipython3",
   "version": "3.9.13"
  }
 },
 "nbformat": 4,
 "nbformat_minor": 5
}
