{
 "cells": [
  {
   "cell_type": "code",
   "execution_count": 1,
   "id": "fccc719d-92fb-4b0a-ba27-155b2099c45a",
   "metadata": {},
   "outputs": [],
   "source": [
    "import numpy as np\n",
    "import sys\n",
    "import xarray as xr\n",
    "import matplotlib.pyplot as plt\n",
    "%matplotlib inline\n",
    "import glob\n",
    "import warnings\n",
    "warnings.filterwarnings('ignore')\n",
    "\n",
    "\n",
    "# indicate whether you are working in a cloud instance (True if yes, False otherwise)\n",
    "incloud_access = False"
   ]
  },
  {
   "cell_type": "code",
   "execution_count": 2,
   "id": "c60e0c7a-4b92-44b1-bad1-e15b247c6048",
   "metadata": {},
   "outputs": [],
   "source": [
    "# load some useful cartopy routines\n",
    "from cartopy import config\n",
    "import cartopy.crs as ccrs\n",
    "import cartopy.feature as cfeature\n",
    "\n",
    "# and a new matplotlib routine\n",
    "import matplotlib.path as mpath"
   ]
  },
  {
   "cell_type": "code",
   "execution_count": 3,
   "id": "abb114ec-7c86-42ca-bc6a-369fbae5d5d2",
   "metadata": {},
   "outputs": [],
   "source": [
    "## Import the ecco_v4_py library into Python\n",
    "## =========================================\n",
    "##    If ecco_v4_py is not installed in your local Python library,\n",
    "##    tell Python where to find it.  The example below adds\n",
    "##    ecco_v4_py to the user's path if it is stored in the folder\n",
    "##    ECCOv4-py under the user's home directory\n",
    "\n",
    "from os.path import join,expanduser\n",
    "user_home_dir = '/Users/aahmed78/ECCOv4-py/'\n",
    "\n",
    "sys.path.append(join(user_home_dir,'ECCOv4-py'))\n",
    "\n",
    "import ecco_v4_py as ecco"
   ]
  },
  {
   "cell_type": "code",
   "execution_count": 4,
   "id": "70c6e0dd-ac0b-4ceb-9e07-2392ebae2ef0",
   "metadata": {},
   "outputs": [
    {
     "data": {
      "text/plain": [
       "'/Users/aahmed78/ECCOv4-py'"
      ]
     },
     "execution_count": 4,
     "metadata": {},
     "output_type": "execute_result"
    }
   ],
   "source": [
    "pwd"
   ]
  },
  {
   "cell_type": "code",
   "execution_count": 5,
   "id": "eb6fd985-be0e-4a11-8047-41546c4d2333",
   "metadata": {},
   "outputs": [
    {
     "name": "stdout",
     "output_type": "stream",
     "text": [
      "LICENSE.txt              \u001b[34mci\u001b[m\u001b[m/                      setup.py\n",
      "MANIFEST                 \u001b[34mecco_v4_py\u001b[m\u001b[m/              \u001b[31mtest_ecco_v4_py.sh\u001b[m\u001b[m*\n",
      "MANIFEST.in              \u001b[34mincomplete\u001b[m\u001b[m/              tutorial_plotting.ipynb\n",
      "README.md                \u001b[34mmeta_json\u001b[m\u001b[m/\n",
      "\u001b[34mbinary_data\u001b[m\u001b[m/             setup.cfg\n"
     ]
    }
   ],
   "source": [
    "ls"
   ]
  },
  {
   "cell_type": "code",
   "execution_count": 6,
   "id": "43b17fbe-1fc8-4e33-b4fd-bdcd2d1f7320",
   "metadata": {},
   "outputs": [],
   "source": [
    "## Set top-level file directory for the ECCO NetCDF files\n",
    "## =================================================================\n",
    "\n",
    "## currently set to ~/Downloads/ECCO_V4r4_PODAAC,\n",
    "## the default if ecco_podaac_download was used to download dataset granules\n",
    "ECCO_dir = join(user_home_dir,'Downloads','ECCO_V4r4_PODAAC')"
   ]
  },
  {
   "cell_type": "code",
   "execution_count": 7,
   "id": "5e1333b4-178e-4a5d-8713-84edaa44ee57",
   "metadata": {},
   "outputs": [
    {
     "ename": "IndexError",
     "evalue": "list index out of range",
     "output_type": "error",
     "traceback": [
      "\u001b[0;31m---------------------------------------------------------------------------\u001b[0m",
      "\u001b[0;31mIndexError\u001b[0m                                Traceback (most recent call last)",
      "Cell \u001b[0;32mIn[7], line 18\u001b[0m\n\u001b[1;32m     15\u001b[0m     ds_temp_sal \u001b[38;5;241m=\u001b[39m xr\u001b[38;5;241m.\u001b[39mopen_mfdataset(files_dict[ShortNames_list[\u001b[38;5;241m2\u001b[39m]],\\\n\u001b[1;32m     16\u001b[0m                                       compat\u001b[38;5;241m=\u001b[39m\u001b[38;5;124m'\u001b[39m\u001b[38;5;124moverride\u001b[39m\u001b[38;5;124m'\u001b[39m,data_vars\u001b[38;5;241m=\u001b[39m\u001b[38;5;124m'\u001b[39m\u001b[38;5;124mminimal\u001b[39m\u001b[38;5;124m'\u001b[39m,coords\u001b[38;5;241m=\u001b[39m\u001b[38;5;124m'\u001b[39m\u001b[38;5;124mminimal\u001b[39m\u001b[38;5;124m'\u001b[39m)\n\u001b[1;32m     17\u001b[0m \u001b[38;5;28;01melse\u001b[39;00m:\n\u001b[0;32m---> 18\u001b[0m     ecco_grid \u001b[38;5;241m=\u001b[39m xr\u001b[38;5;241m.\u001b[39mopen_dataset(\u001b[43mglob\u001b[49m\u001b[38;5;241;43m.\u001b[39;49m\u001b[43mglob\u001b[49m\u001b[43m(\u001b[49m\u001b[43mjoin\u001b[49m\u001b[43m(\u001b[49m\u001b[43mECCO_dir\u001b[49m\u001b[43m,\u001b[49m\u001b[43mShortNames_list\u001b[49m\u001b[43m[\u001b[49m\u001b[38;5;241;43m0\u001b[39;49m\u001b[43m]\u001b[49m\u001b[43m,\u001b[49m\u001b[38;5;124;43m'\u001b[39;49m\u001b[38;5;124;43m*.nc\u001b[39;49m\u001b[38;5;124;43m'\u001b[39;49m\u001b[43m)\u001b[49m\u001b[43m)\u001b[49m\u001b[43m[\u001b[49m\u001b[38;5;241;43m0\u001b[39;49m\u001b[43m]\u001b[49m)\n\u001b[1;32m     19\u001b[0m     ds_SSH \u001b[38;5;241m=\u001b[39m xr\u001b[38;5;241m.\u001b[39mopen_mfdataset(glob\u001b[38;5;241m.\u001b[39mglob(join(ECCO_dir,ShortNames_list[\u001b[38;5;241m1\u001b[39m],\u001b[38;5;124m'\u001b[39m\u001b[38;5;124m*2000-*.nc\u001b[39m\u001b[38;5;124m'\u001b[39m)),\\\n\u001b[1;32m     20\u001b[0m                                      compat\u001b[38;5;241m=\u001b[39m\u001b[38;5;124m'\u001b[39m\u001b[38;5;124moverride\u001b[39m\u001b[38;5;124m'\u001b[39m,data_vars\u001b[38;5;241m=\u001b[39m\u001b[38;5;124m'\u001b[39m\u001b[38;5;124mminimal\u001b[39m\u001b[38;5;124m'\u001b[39m,coords\u001b[38;5;241m=\u001b[39m\u001b[38;5;124m'\u001b[39m\u001b[38;5;124mminimal\u001b[39m\u001b[38;5;124m'\u001b[39m)\n\u001b[1;32m     21\u001b[0m     ds_temp_sal \u001b[38;5;241m=\u001b[39m xr\u001b[38;5;241m.\u001b[39mopen_mfdataset(glob\u001b[38;5;241m.\u001b[39mglob(join(ECCO_dir,ShortNames_list[\u001b[38;5;241m2\u001b[39m],\u001b[38;5;124m'\u001b[39m\u001b[38;5;124m*2000-*.nc\u001b[39m\u001b[38;5;124m'\u001b[39m)),\\\n\u001b[1;32m     22\u001b[0m                                      compat\u001b[38;5;241m=\u001b[39m\u001b[38;5;124m'\u001b[39m\u001b[38;5;124moverride\u001b[39m\u001b[38;5;124m'\u001b[39m,data_vars\u001b[38;5;241m=\u001b[39m\u001b[38;5;124m'\u001b[39m\u001b[38;5;124mminimal\u001b[39m\u001b[38;5;124m'\u001b[39m,coords\u001b[38;5;241m=\u001b[39m\u001b[38;5;124m'\u001b[39m\u001b[38;5;124mminimal\u001b[39m\u001b[38;5;124m'\u001b[39m)\n",
      "\u001b[0;31mIndexError\u001b[0m: list index out of range"
     ]
    }
   ],
   "source": [
    "## open ECCO datasets needed for the tutorial\n",
    "\n",
    "ShortNames_list = [\"ECCO_L4_GEOMETRY_LLC0090GRID_V4R4\",\\\n",
    "                   \"ECCO_L4_SSH_LLC0090GRID_MONTHLY_V4R4\",\\\n",
    "                   \"ECCO_L4_TEMP_SALINITY_LLC0090GRID_MONTHLY_V4R4\"]\n",
    "if incloud_access == True:\n",
    "    from ecco_s3_retrieve import ecco_podaac_s3_get_diskaware\n",
    "    files_dict = ecco_podaac_s3_get_diskaware(ShortNames=ShortNames_list,\\\n",
    "                                              StartDate='2000-01',EndDate='2000-12',\\\n",
    "                                              max_avail_frac=0.5,\\\n",
    "                                              download_root_dir=ECCO_dir)\n",
    "    ecco_grid = xr.open_dataset(files_dict[ShortNames_list[0]])\n",
    "    ds_SSH = xr.open_mfdataset(files_dict[ShortNames_list[1]],\\\n",
    "                                     compat='override',data_vars='minimal',coords='minimal')\n",
    "    ds_temp_sal = xr.open_mfdataset(files_dict[ShortNames_list[2]],\\\n",
    "                                      compat='override',data_vars='minimal',coords='minimal')\n",
    "else:\n",
    "    ecco_grid = xr.open_dataset(glob.glob(join(ECCO_dir,ShortNames_list[0],'*.nc'))[0])\n",
    "    ds_SSH = xr.open_mfdataset(glob.glob(join(ECCO_dir,ShortNames_list[1],'*2000-*.nc')),\\\n",
    "                                     compat='override',data_vars='minimal',coords='minimal')\n",
    "    ds_temp_sal = xr.open_mfdataset(glob.glob(join(ECCO_dir,ShortNames_list[2],'*2000-*.nc')),\\\n",
    "                                     compat='override',data_vars='minimal',coords='minimal')\n",
    "\n",
    "\n",
    "## select only *surface* temperature and salinity (SST and SSS)\n",
    "ds_SST_SSS = ds_temp_sal.isel(k=0)\n",
    "\n",
    "\n",
    "## Copy ecco_ds from ecco_grid dataset\n",
    "ecco_ds = ecco_grid.copy()\n",
    "## Add SSH, SST, and SSS variables to ecco_ds\n",
    "ecco_ds['SSH'] = ds_SSH['SSH']\n",
    "ecco_ds['SST'] = ds_SST_SSS['THETA']\n",
    "ecco_ds['SSS'] = ds_SST_SSS['SALT']\n",
    "\n",
    "## Load ecco_ds into memory\n",
    "ecco_ds = ecco_ds.compute()"
   ]
  },
  {
   "cell_type": "code",
   "execution_count": null,
   "id": "48061bdb-047c-4f59-befd-c4db3539acad",
   "metadata": {},
   "outputs": [],
   "source": []
  }
 ],
 "metadata": {
  "kernelspec": {
   "display_name": "Python 3 (ipykernel)",
   "language": "python",
   "name": "python3"
  },
  "language_info": {
   "codemirror_mode": {
    "name": "ipython",
    "version": 3
   },
   "file_extension": ".py",
   "mimetype": "text/x-python",
   "name": "python",
   "nbconvert_exporter": "python",
   "pygments_lexer": "ipython3",
   "version": "3.9.13"
  }
 },
 "nbformat": 4,
 "nbformat_minor": 5
}
